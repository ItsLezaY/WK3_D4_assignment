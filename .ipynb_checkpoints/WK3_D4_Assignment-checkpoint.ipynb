{
 "cells": [
  {
   "cell_type": "markdown",
   "id": "e8371402",
   "metadata": {},
   "source": [
    "<p>Describe in your own words the following concepts and give an analogy tying to a real-world concept."
   ]
  },
  {
   "cell_type": "markdown",
   "id": "d785606b",
   "metadata": {},
   "source": [
    "#### Difference between a Class and an Object"
   ]
  },
  {
   "cell_type": "markdown",
   "id": "d77dc149",
   "metadata": {},
   "source": [
    "A class is a blueprint or template to define the behavior (methods), attributes, or properties of an object. It can be used to create objects which is called instantiation. A class is more of a mental/logical entity rather than a physical entity or object. You can declare a class once.\n",
    "\n",
    "\n",
    "An object is an instance of its derived/parent class. This is the physical entity and brings life to the class. You can create multiple objects using a class. Can be anything from a book, a PC, or even a date in the real world. It can have properties like name, chapters, address, and behaviors. \n",
    "\n",
    "ex.\n",
    "A class would be expensive_shoes which would include objects like louboutins, manolos, jimmy choos, etc. The price or color of the shoes would be data or attributes.\n",
    "\n",
    "\n",
    "\n"
   ]
  },
  {
   "cell_type": "markdown",
   "id": "4bc61090",
   "metadata": {},
   "source": [
    "#### Encapsulation"
   ]
  },
  {
   "cell_type": "markdown",
   "id": "e41f8a35",
   "metadata": {},
   "source": [
    "Restricting access of properties or methods of objects to whatever is calling the object. We can keep the state, variables, and methods private unless we want it to be public to the object calling it. \n",
    "\n",
    "ex.\n",
    "Hiding or enclosing private information/data like a social security number from other objects in our program."
   ]
  },
  {
   "cell_type": "markdown",
   "id": "de98a1ab",
   "metadata": {},
   "source": [
    "#### Inheritance"
   ]
  },
  {
   "cell_type": "markdown",
   "id": "218bf769",
   "metadata": {},
   "source": [
    "This is useful for code reusability and reduces the amount of code we have to write. We can create new classes that 'inherit' methods from its parent(derived) class and also modify its behavior. \n",
    "\n",
    "ex.\n",
    "Siberian huskies would be represented by a Dog parent class, and the Siberian huskies would have similar features, such as double-coats, erect ears, specific markings, etc."
   ]
  },
  {
   "cell_type": "markdown",
   "id": "0f286bb2",
   "metadata": {},
   "source": [
    "#### Polymorphism"
   ]
  },
  {
   "cell_type": "markdown",
   "id": "d3b03788",
   "metadata": {},
   "source": [
    "Having many forms like an object can take up a form in different situations or context and allows it to determine which function to run while the program is running. The idea is that each instance of the Parent class's method has a different implementation.\n",
    "\n",
    "ex.\n",
    "A real world example would be a person (example: me) can play many roles in life, a wife, daughter, sister, student, or programmer, etc."
   ]
  },
  {
   "cell_type": "markdown",
   "id": "5ff5c173",
   "metadata": {},
   "source": [
    "#### Abstraction"
   ]
  },
  {
   "cell_type": "markdown",
   "id": "d27b035b",
   "metadata": {},
   "source": [
    "Only showing the necessary information to the user. User only cares to call the method, and not the backend or underlying implementation. You only need to see the relevant data to complete what you need to do.\n",
    "\n",
    "ex.\n",
    "Turning a monitor on/off: user only cares to know to push the power button to turn it on/off."
   ]
  }
 ],
 "metadata": {
  "kernelspec": {
   "display_name": "Python 3 (ipykernel)",
   "language": "python",
   "name": "python3"
  },
  "language_info": {
   "codemirror_mode": {
    "name": "ipython",
    "version": 3
   },
   "file_extension": ".py",
   "mimetype": "text/x-python",
   "name": "python",
   "nbconvert_exporter": "python",
   "pygments_lexer": "ipython3",
   "version": "3.10.9"
  }
 },
 "nbformat": 4,
 "nbformat_minor": 5
}
